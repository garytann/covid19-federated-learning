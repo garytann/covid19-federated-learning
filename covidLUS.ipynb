{
  "cells": [
    {
      "cell_type": "code",
      "execution_count": null,
      "metadata": {
        "id": "oRm4V32CTaWi"
      },
      "outputs": [],
      "source": [
        "import argparse\n",
        "import os\n",
        "\n",
        "import cv2\n",
        "import matplotlib.pyplot as plt\n",
        "import numpy as np\n",
        "import pandas as pd\n",
        "import tensorflow as tf\n",
        "from imutils import paths\n",
        "from sklearn.metrics import classification_report, confusion_matrix\n",
        "from sklearn.preprocessing import LabelBinarizer\n",
        "from tensorflow.keras.callbacks import (\n",
        "    EarlyStopping, ModelCheckpoint, ReduceLROnPlateau\n",
        ")\n",
        "from tensorflow.keras.optimizers import Adam\n",
        "from tensorflow.keras.preprocessing.image import ImageDataGenerator\n",
        "from tensorflow.keras.utils import to_categorical\n"
      ]
    },
    {
      "cell_type": "code",
      "execution_count": null,
      "metadata": {
        "id": "rMp2ia0_T6UU"
      },
      "outputs": [],
      "source": [
        "def load(imagePaths, fold, img_width, img_height):\n",
        "    train_labels, test_labels = [], []\n",
        "    train_data, test_data = [], []\n",
        "\n",
        "    for imagePath in imagePaths:\n",
        "        path_parts = imagePath.split(os.path.sep)\n",
        "        # extract the split\n",
        "        train_test = path_parts[-3][-1]\n",
        "        # extract the class label from the filename\n",
        "        label = path_parts[-2]\n",
        "        # load the image, swap color channels, and resize it to be a fixed\n",
        "        # 224x224 pixels while ignoring aspect ratio\n",
        "        image = cv2.imread(imagePath)\n",
        "        image = cv2.cvtColor(image, cv2.COLOR_BGR2RGB)\n",
        "        image = cv2.resize(image, (img_width, img_height))\n",
        "\n",
        "        # update the data and labels lists, respectively\n",
        "        if train_test == str(fold):\n",
        "            test_labels.append(label)\n",
        "            test_data.append(image)\n",
        "            # test_files.append(path_parts[-1])\n",
        "        else:\n",
        "            train_labels.append(label)\n",
        "            train_data.append(image)\n",
        "    '''\n",
        "    Converting the list to numpy array with normalizing the pixel values\n",
        "    '''\n",
        "    train_data = np.array(train_data) / 255.0\n",
        "    test_data = np.array(test_data) / 255.0\n",
        "    train_labels_text = np.array(train_labels)\n",
        "    test_labels_text = np.array(test_labels)\n",
        "\n",
        "    return train_data, train_labels_text, test_data, test_labels_text"
      ]
    },
    {
      "cell_type": "code",
      "execution_count": null,
      "metadata": {
        "id": "cTKG01KyWKXl"
      },
      "outputs": [],
      "source": [
        "def fix_layers(model, num_flex_layers: int = 1):\n",
        "    \"\"\"\n",
        "    Receives a model and freezes all layers but the last num_flex_layers ones.\n",
        "\n",
        "    Arguments:\n",
        "        model {tensorflow.python.keras.engine.training.Model} -- model\n",
        "\n",
        "    Keyword Arguments:\n",
        "        num_flex_layers {int} -- [Number of trainable layers] (default: {1})\n",
        "\n",
        "    Returns:\n",
        "        Model -- updated model\n",
        "    \"\"\"\n",
        "    num_layers = len(model.layers)\n",
        "    for ind, layer in enumerate(model.layers):\n",
        "        if ind < num_layers - num_flex_layers:\n",
        "            layer.trainable = False\n",
        "\n",
        "    return model"
      ]
    },
    {
      "cell_type": "code",
      "execution_count": null,
      "metadata": {
        "id": "jN11jZY4Wz2W"
      },
      "outputs": [],
      "source": [
        "from sklearn.metrics import balanced_accuracy_score\n",
        "from tensorflow.keras.callbacks import Callback\n",
        "\n",
        "class Metrics(Callback):\n",
        "\n",
        "    def __init__(self, valid_data, model):\n",
        "        super(Metrics, self).__init__()\n",
        "        self.valid_data = valid_data\n",
        "        self._data = []\n",
        "        self.model = model\n",
        "\n",
        "    def on_epoch_end(self, epoch, logs=None):\n",
        "        # if epoch:\n",
        "        #     for i in range(1):  # len(self.valid_data)):\n",
        "        x_test_batch, y_test_batch = self.valid_data\n",
        "\n",
        "        y_predict = np.asarray(self.model.predict(x_test_batch))\n",
        "\n",
        "        y_val = np.argmax(y_test_batch, axis=1)\n",
        "        y_predict = np.argmax(y_predict, axis=1)\n",
        "        self._data.append(\n",
        "            {\n",
        "                'val_balanced': balanced_accuracy_score(y_val, y_predict),\n",
        "            }\n",
        "        )\n",
        "        print(f'Balanced accuracy is: {self._data[-1]}')\n",
        "        return\n",
        "\n",
        "    def get_data(self):\n",
        "        return self._data"
      ]
    },
    {
      "cell_type": "code",
      "execution_count": null,
      "metadata": {
        "id": "LhZxpFJaVu_m"
      },
      "outputs": [],
      "source": [
        "from tensorflow.keras.applications import (\n",
        "    VGG16, MobileNetV2, NASNetMobile, ResNet50\n",
        ")\n",
        "from tensorflow.keras.layers import (\n",
        "    AveragePooling2D,\n",
        "    Dense,\n",
        "    Dropout,\n",
        "    Flatten,\n",
        "    Input,\n",
        "    BatchNormalization,\n",
        "    ReLU,\n",
        "    LeakyReLU\n",
        ")\n",
        "from sklearn.metrics import balanced_accuracy_score\n",
        "from tensorflow.keras.callbacks import Callback\n",
        "import tensorflow.keras as K\n",
        "from tensorflow.keras.callbacks import (\n",
        "    EarlyStopping, ModelCheckpoint, ReduceLROnPlateau\n",
        ")\n",
        "from tensorflow.keras.models import Model\n",
        "from tensorflow.keras.preprocessing.image import ImageDataGenerator\n",
        "\n",
        "def get_model(\n",
        "        input_size: tuple = (224, 224, 3),\n",
        "        hidden_size: int = 64,\n",
        "        dropout: float = 0.5,\n",
        "        num_classes: int = 3,\n",
        "        trainable_layers: int = 1,\n",
        "        log_softmax: bool = False,\n",
        "        mc_dropout: bool = False,\n",
        "        **kwargs\n",
        "    ):\n",
        "        # act_fn = tf.nn.softmax if not log_softmax else tf.nn.log_softmax\n",
        "        act_fn = tf.nn.softmax\n",
        "\n",
        "        # load the VGG16 network, ensuring the head FC layer sets are left off\n",
        "        baseModel = VGG16(\n",
        "            weights=\"imagenet\",\n",
        "            include_top=False,\n",
        "            input_tensor=Input(shape=input_size)\n",
        "        )\n",
        "        # construct the head of the model that will be placed on top of the\n",
        "        # the base model\n",
        "        headModel = baseModel.output\n",
        "        headModel = AveragePooling2D(pool_size=(4, 4))(headModel)\n",
        "        headModel = Flatten(name=\"flatten\")(headModel)\n",
        "        headModel = Dense(hidden_size)(headModel)\n",
        "        headModel = BatchNormalization()(headModel)\n",
        "        headModel = ReLU()(headModel)\n",
        "        headModel = (\n",
        "            Dropout(dropout)(headModel, training=True)\n",
        "            if mc_dropout else Dropout(dropout)(headModel)\n",
        "        )\n",
        "        headModel = Dense(num_classes, activation=act_fn)(headModel)\n",
        "\n",
        "        # place the head FC model on top of the base model\n",
        "        model = Model(inputs=baseModel.input, outputs=headModel)\n",
        "\n",
        "        model = fix_layers(model, num_flex_layers=trainable_layers + 8)\n",
        "\n",
        "        return model\n",
        "\n",
        "def get_resnet50_model(\n",
        "  input_size: tuple = (224, 224, 3),\n",
        "  hidden_size: int = 64,\n",
        "  dropout: float = 0.5,\n",
        "  num_classes: int = 3,\n",
        "  trainable_layers: int = 3,\n",
        "  log_softmax: bool = True,\n",
        "  mc_dropout: bool = False,\n",
        "  **kwargs\n",
        "):\n",
        "  act_fn = tf.nn.softmax if not log_softmax else tf.nn.log_softmax\n",
        "\n",
        "  # load the VGG16 network, ensuring the head FC layer sets are left off\n",
        "  baseModel = ResNet50(\n",
        "      weights=\"imagenet\",\n",
        "      include_top=False,\n",
        "      input_tensor=Input(shape=input_size)\n",
        "  )\n",
        "  # construct the head of the model that will be placed on top of the\n",
        "  # the base model\n",
        "  headModel = baseModel.output\n",
        "  headModel = AveragePooling2D(pool_size=(4, 4))(headModel)\n",
        "  headModel = Flatten(name=\"flatten\")(headModel)\n",
        "  headModel = Dense(hidden_size)(headModel)\n",
        "  headModel = BatchNormalization()(headModel)\n",
        "  headModel = ReLU()(headModel)\n",
        "  headModel = (\n",
        "      Dropout(dropout)(headModel, training=True)\n",
        "      if mc_dropout else Dropout(dropout)(headModel)\n",
        "  )\n",
        "  headModel = Dense(num_classes, activation=act_fn)(headModel)\n",
        "\n",
        "  # place the head FC model on top of the base model\n",
        "  model = Model(inputs=baseModel.input, outputs=headModel)\n",
        "\n",
        "  model = fix_layers(model, num_flex_layers=trainable_layers + 8)\n",
        "\n",
        "  return model\n",
        "\n",
        "  def get_cam_model(\n",
        "    input_size: tuple = (224, 224, 3),\n",
        "    num_classes: int = 3,\n",
        "    trainable_layers: int = 1,\n",
        "    dropout: float = 0.5,\n",
        "    log_softmax: bool = False,\n",
        "    mc_dropout: bool = False,\n",
        "    *args,\n",
        "    **kwargs\n",
        "):\n",
        "    \"\"\"\n",
        "    Get a VGG model that supports class activation maps w/o guided gradients\n",
        "\n",
        "    Keyword Arguments:\n",
        "        input_size {tuple} -- [Image size] (default: {(224, 224, 3)})\n",
        "        num_classes {int} -- [Number of output classes] (default: {3})\n",
        "        trainable_layers {int} -- [Number of trainable layers] (default: {3})\n",
        "\n",
        "    Returns:\n",
        "        tensorflow.keras.models object\n",
        "    \"\"\"\n",
        "    act_fn = tf.nn.softmax if not log_softmax else tf.nn.log_softmax\n",
        "\n",
        "    # load the VGG16 network, ensuring the head FC layer sets are left off\n",
        "    baseModel = VGG16(\n",
        "        weights=\"imagenet\",\n",
        "        include_top=False,\n",
        "        input_tensor=Input(shape=input_size)\n",
        "    )\n",
        "    headModel = baseModel.output\n",
        "    headModel = global_average_pooling(headModel)\n",
        "    headModel = (\n",
        "        Dropout(dropout)(headModel, training=True)\n",
        "        if mc_dropout else Dropout(dropout)(headModel)\n",
        "    )\n",
        "    headModel = Dense(num_classes, activation=act_fn)(headModel)\n",
        "\n",
        "    model = Model(inputs=baseModel.input, outputs=headModel)\n",
        "    model = fix_layers(model, num_flex_layers=trainable_layers + 2)\n",
        "\n",
        "    return model"
      ]
    },
    {
      "cell_type": "code",
      "execution_count": null,
      "metadata": {
        "id": "QIVvShwU0IfD"
      },
      "outputs": [],
      "source": [
        "# import tarfile\n",
        "\n",
        "# # Extract the dataset\n",
        "# with tarfile.open(\"/content/drive/MyDrive/capstone/fold4.tar.gz\", \"r:gz\") as tar:\n",
        "#     tar.extractall(\"/content/drive/MyDrive/capstone/\")"
      ]
    },
    {
      "cell_type": "code",
      "execution_count": null,
      "metadata": {
        "id": "aba1q3IxUHQw"
      },
      "outputs": [],
      "source": [
        "# Data is already preprocessed and save as numpy array\n",
        "import numpy as np\n",
        "\n",
        "trainX = np.load('/content/drive/MyDrive/capstone/fold4/train_data.npy')\n",
        "trainY = np.load('/content/drive/MyDrive/capstone/fold4/train_labels_text.npy')\n",
        "testX = np.load('/content/drive/MyDrive/capstone/fold4/test_data.npy')\n",
        "testY = np.load('/content/drive/MyDrive/capstone/fold4/test_labels_text.npy')"
      ]
    },
    {
      "cell_type": "code",
      "execution_count": null,
      "metadata": {
        "id": "ejP4XvllVGgs"
      },
      "outputs": [],
      "source": [
        "# # perform one-hot encoding on the labels\n",
        "lb = LabelBinarizer()\n",
        "lb.fit(trainY)\n",
        "\n",
        "train_labels = lb.transform(trainY)\n",
        "test_labels = lb.transform(testY)"
      ]
    },
    {
      "cell_type": "code",
      "execution_count": null,
      "metadata": {
        "id": "IT4SU6MLVlM3"
      },
      "outputs": [],
      "source": [
        "trainX = trainX\n",
        "trainY = train_labels\n",
        "testX = testX\n",
        "testY = test_labels"
      ]
    },
    {
      "cell_type": "code",
      "execution_count": null,
      "metadata": {
        "id": "pRa3ZEGOVqIk"
      },
      "outputs": [],
      "source": [
        "# initialize the training data augmentation object\n",
        "trainAug = ImageDataGenerator(\n",
        "    rotation_range=10,\n",
        "    fill_mode='nearest',\n",
        "    horizontal_flip=True,\n",
        "    vertical_flip=True,\n",
        "    width_shift_range=0.1,\n",
        "    height_shift_range=0.1\n",
        ")"
      ]
    },
    {
      "cell_type": "code",
      "execution_count": null,
      "metadata": {
        "id": "h1_gY-RTXAR1"
      },
      "outputs": [],
      "source": [
        "model = get_resnet50_model()"
      ]
    },
    {
      "cell_type": "code",
      "execution_count": null,
      "metadata": {
        "id": "sdprGbZ2VsSW"
      },
      "outputs": [],
      "source": [
        "# Define callbacks\n",
        "earlyStopping = EarlyStopping(\n",
        "    monitor='loss',\n",
        "    patience=20,\n",
        "    verbose=1,\n",
        "    mode='min',\n",
        "    restore_best_weights=True\n",
        ")\n",
        "\n",
        "MODEL_DIR = \"/content/drive/MyDrive/capstone/trained_resnet_models/fold4\"\n",
        "mcp_save = ModelCheckpoint(\n",
        "    os.path.join(MODEL_DIR, 'best_weights'),\n",
        "    save_best_only=True,\n",
        "    monitor='accuracy',\n",
        "    mode='max',\n",
        "    verbose=1\n",
        ")\n",
        "\n",
        "reduce_lr_loss = ReduceLROnPlateau(\n",
        "    monitor='loss',\n",
        "    factor=0.7,\n",
        "    patience=7,\n",
        "    verbose=1,\n",
        "    min_delta=1e-4,\n",
        "    mode='min'\n",
        ")\n",
        "\n",
        "metrics = Metrics((testX, testY), model)"
      ]
    },
    {
      "cell_type": "code",
      "execution_count": null,
      "metadata": {
        "id": "uKQxVZzDWu1t"
      },
      "outputs": [],
      "source": [
        "LR = 1e-4\n",
        "EPOCHS = 30\n",
        "LOG_SOFTMAX = False\n",
        "BATCH_SIZE = 8\n",
        "\n",
        "initial_learning_rate = 1e-4\n",
        "final_learning_rate = 0.0001\n",
        "learning_rate_decay_factor = (final_learning_rate / initial_learning_rate)**(1/EPOCHS)\n",
        "steps_per_epoch = int(len(trainX)/BATCH_SIZE)\n",
        "\n",
        "\n",
        "# opt = Adam(lr=LR, decay=LR / EPOCHS)\n",
        "lr_schedule = tf.keras.optimizers.schedules.ExponentialDecay(\n",
        "    initial_learning_rate=initial_learning_rate,\n",
        "    decay_steps=steps_per_epoch,\n",
        "    decay_rate=learning_rate_decay_factor,\n",
        "    staircase=True\n",
        "    )\n",
        "\n",
        "optimizer = Adam(learning_rate = lr_schedule)\n",
        "# loss = (\n",
        "#     tf.keras.losses.CategoricalCrossentropy() if not LOG_SOFTMAX else (\n",
        "#         lambda labels, targets: tf.reduce_mean(\n",
        "#             tf.reduce_sum(\n",
        "#                 -1 * tf.math.multiply(tf.cast(labels, tf.float32), targets),\n",
        "#                 axis=1\n",
        "#             )\n",
        "#         )\n",
        "#     )\n",
        "# )\n",
        "loss = tf.keras.losses.CategoricalCrossentropy()\n",
        "model.compile(loss=loss, optimizer=optimizer, metrics=['accuracy'])\n",
        "\n",
        "print(f'Model has {model.count_params()} parameters')\n",
        "print(f'Model summary {model.summary()}')"
      ]
    },
    {
      "cell_type": "code",
      "execution_count": null,
      "metadata": {
        "colab": {
          "base_uri": "https://localhost:8080/"
        },
        "id": "rTp9Ot0la07B",
        "outputId": "d63abcd1-298e-4d2b-c2f2-42ca497cf2c3"
      },
      "outputs": [
        {
          "output_type": "stream",
          "name": "stdout",
          "text": [
            "Epoch 1/30\n",
            "311/311 [==============================] - ETA: 0s - loss: 0.6121 - accuracy: 0.0536"
          ]
        },
        {
          "output_type": "stream",
          "name": "stderr",
          "text": [
            "WARNING:tensorflow:Your input ran out of data; interrupting training. Make sure that your dataset or generator can generate at least `steps_per_epoch * epochs` batches (in this case, 87 batches). You may need to use the repeat() function when building your dataset.\n"
          ]
        },
        {
          "output_type": "stream",
          "name": "stdout",
          "text": [
            "\n",
            "Epoch 1: accuracy improved from -inf to 0.05361, saving model to /content/drive/MyDrive/capstone/trained_resnet_models/fold4/best_weights\n"
          ]
        },
        {
          "output_type": "stream",
          "name": "stderr",
          "text": [
            "WARNING:absl:Found untraced functions such as _jit_compiled_convolution_op, _jit_compiled_convolution_op, _jit_compiled_convolution_op, _jit_compiled_convolution_op, _jit_compiled_convolution_op while saving (showing 5 of 53). These functions will not be directly callable after loading.\n"
          ]
        },
        {
          "output_type": "stream",
          "name": "stdout",
          "text": [
            "\b\b\b\b\b\b\b\b\b\b\b\b\b\b\b\b\b\b\b\b\b\b\b\b\b\b\b\b\b\b\b\b\b\b\b\b\b\b\b\b\b\b\b\b\b\b\b\b\b\b\b\b\b\b\b\b\b\b\b\b\b\b\b\b\b\b\b\b\b\b\b\b\b\b\b\b\b\b\b\b\b\b\b\b\r311/311 [==============================] - 54s 158ms/step - loss: 0.6121 - accuracy: 0.0536 - val_loss: 1.5339 - val_accuracy: 0.1332 - lr: 1.0000e-04\n",
            "Epoch 2/30\n",
            "311/311 [==============================] - ETA: 0s - loss: 0.6211 - accuracy: 0.0593\n",
            "Epoch 2: accuracy improved from 0.05361 to 0.05925, saving model to /content/drive/MyDrive/capstone/trained_resnet_models/fold4/best_weights\n"
          ]
        },
        {
          "output_type": "stream",
          "name": "stderr",
          "text": [
            "WARNING:absl:Found untraced functions such as _jit_compiled_convolution_op, _jit_compiled_convolution_op, _jit_compiled_convolution_op, _jit_compiled_convolution_op, _jit_compiled_convolution_op while saving (showing 5 of 53). These functions will not be directly callable after loading.\n"
          ]
        },
        {
          "output_type": "stream",
          "name": "stdout",
          "text": [
            "\b\b\b\b\b\b\b\b\b\b\b\b\b\b\b\b\b\b\b\b\b\b\b\b\b\b\b\b\b\b\b\b\b\b\b\b\b\b\b\b\b\b\b\b\b\b\b\b\b\b\b\b\b\b\b\b\b\b\b\b\b\b\b\b\b\b\b\b\b\b\b\b\b\b\b\b\b\b\b\b\b\b\b\b\r311/311 [==============================] - 45s 143ms/step - loss: 0.6211 - accuracy: 0.0593 - lr: 1.0000e-04\n",
            "Epoch 3/30\n",
            "311/311 [==============================] - ETA: 0s - loss: 0.6064 - accuracy: 0.0524\n",
            "Epoch 3: accuracy did not improve from 0.05925\n",
            "311/311 [==============================] - 25s 80ms/step - loss: 0.6064 - accuracy: 0.0524 - lr: 1.0000e-04\n",
            "Epoch 4/30\n",
            "311/311 [==============================] - ETA: 0s - loss: 0.5873 - accuracy: 0.0496\n",
            "Epoch 4: accuracy did not improve from 0.05925\n",
            "311/311 [==============================] - 25s 80ms/step - loss: 0.5873 - accuracy: 0.0496 - lr: 1.0000e-04\n",
            "Epoch 5/30\n",
            "311/311 [==============================] - ETA: 0s - loss: 0.6043 - accuracy: 0.0564\n",
            "Epoch 5: accuracy did not improve from 0.05925\n",
            "311/311 [==============================] - 25s 80ms/step - loss: 0.6043 - accuracy: 0.0564 - lr: 1.0000e-04\n",
            "Epoch 6/30\n",
            "311/311 [==============================] - ETA: 0s - loss: 0.6093 - accuracy: 0.0572\n",
            "Epoch 6: accuracy did not improve from 0.05925\n",
            "311/311 [==============================] - 25s 80ms/step - loss: 0.6093 - accuracy: 0.0572 - lr: 1.0000e-04\n",
            "Epoch 7/30\n",
            "311/311 [==============================] - ETA: 0s - loss: 0.5968 - accuracy: 0.0476\n",
            "Epoch 7: accuracy did not improve from 0.05925\n",
            "311/311 [==============================] - 25s 80ms/step - loss: 0.5968 - accuracy: 0.0476 - lr: 1.0000e-04\n",
            "Epoch 8/30\n",
            "311/311 [==============================] - ETA: 0s - loss: 0.5963 - accuracy: 0.0532\n",
            "Epoch 8: accuracy did not improve from 0.05925\n",
            "311/311 [==============================] - 25s 79ms/step - loss: 0.5963 - accuracy: 0.0532 - lr: 1.0000e-04\n",
            "Epoch 9/30\n",
            "311/311 [==============================] - ETA: 0s - loss: 0.6159 - accuracy: 0.0713\n",
            "Epoch 9: accuracy improved from 0.05925 to 0.07134, saving model to /content/drive/MyDrive/capstone/trained_resnet_models/fold4/best_weights\n"
          ]
        },
        {
          "output_type": "stream",
          "name": "stderr",
          "text": [
            "WARNING:absl:Found untraced functions such as _jit_compiled_convolution_op, _jit_compiled_convolution_op, _jit_compiled_convolution_op, _jit_compiled_convolution_op, _jit_compiled_convolution_op while saving (showing 5 of 53). These functions will not be directly callable after loading.\n"
          ]
        },
        {
          "output_type": "stream",
          "name": "stdout",
          "text": [
            "\b\b\b\b\b\b\b\b\b\b\b\b\b\b\b\b\b\b\b\b\b\b\b\b\b\b\b\b\b\b\b\b\b\b\b\b\b\b\b\b\b\b\b\b\b\b\b\b\b\b\b\b\b\b\b\b\b\b\b\b\b\b\b\b\b\b\b\b\b\b\b\b\b\b\b\b\b\b\b\b\b\b\b\b\r311/311 [==============================] - 44s 143ms/step - loss: 0.6159 - accuracy: 0.0713 - lr: 1.0000e-04\n",
            "Epoch 10/30\n",
            "311/311 [==============================] - ETA: 0s - loss: 0.5917 - accuracy: 0.0496\n",
            "Epoch 10: accuracy did not improve from 0.07134\n",
            "311/311 [==============================] - 25s 81ms/step - loss: 0.5917 - accuracy: 0.0496 - lr: 1.0000e-04\n",
            "Epoch 11/30\n",
            "311/311 [==============================] - ETA: 0s - loss: 0.5799 - accuracy: 0.0564\n",
            "Epoch 11: accuracy did not improve from 0.07134\n",
            "311/311 [==============================] - 25s 80ms/step - loss: 0.5799 - accuracy: 0.0564 - lr: 1.0000e-04\n",
            "Epoch 12/30\n",
            "311/311 [==============================] - ETA: 0s - loss: 0.5901 - accuracy: 0.0560\n",
            "Epoch 12: accuracy did not improve from 0.07134\n",
            "311/311 [==============================] - 25s 79ms/step - loss: 0.5901 - accuracy: 0.0560 - lr: 1.0000e-04\n",
            "Epoch 13/30\n",
            "311/311 [==============================] - ETA: 0s - loss: 0.5764 - accuracy: 0.0512\n",
            "Epoch 13: accuracy did not improve from 0.07134\n",
            "311/311 [==============================] - 25s 81ms/step - loss: 0.5764 - accuracy: 0.0512 - lr: 1.0000e-04\n",
            "Epoch 14/30\n",
            "311/311 [==============================] - ETA: 0s - loss: 0.5630 - accuracy: 0.0552\n",
            "Epoch 14: accuracy did not improve from 0.07134\n",
            "311/311 [==============================] - 25s 81ms/step - loss: 0.5630 - accuracy: 0.0552 - lr: 1.0000e-04\n",
            "Epoch 15/30\n",
            "311/311 [==============================] - ETA: 0s - loss: 0.5738 - accuracy: 0.0443\n",
            "Epoch 15: accuracy did not improve from 0.07134\n",
            "311/311 [==============================] - 25s 81ms/step - loss: 0.5738 - accuracy: 0.0443 - lr: 1.0000e-04\n",
            "Epoch 16/30\n",
            "311/311 [==============================] - ETA: 0s - loss: 0.5789 - accuracy: 0.0488\n",
            "Epoch 16: accuracy did not improve from 0.07134\n",
            "311/311 [==============================] - 25s 82ms/step - loss: 0.5789 - accuracy: 0.0488 - lr: 1.0000e-04\n",
            "Epoch 17/30\n",
            "311/311 [==============================] - ETA: 0s - loss: 0.5663 - accuracy: 0.0439\n",
            "Epoch 17: accuracy did not improve from 0.07134\n",
            "311/311 [==============================] - 26s 83ms/step - loss: 0.5663 - accuracy: 0.0439 - lr: 1.0000e-04\n",
            "Epoch 18/30\n",
            "311/311 [==============================] - ETA: 0s - loss: 0.5777 - accuracy: 0.0540\n",
            "Epoch 18: accuracy did not improve from 0.07134\n",
            "311/311 [==============================] - 25s 82ms/step - loss: 0.5777 - accuracy: 0.0540 - lr: 1.0000e-04\n",
            "Epoch 19/30\n",
            "311/311 [==============================] - ETA: 0s - loss: 0.5435 - accuracy: 0.0403\n",
            "Epoch 19: accuracy did not improve from 0.07134\n",
            "311/311 [==============================] - 26s 83ms/step - loss: 0.5435 - accuracy: 0.0403 - lr: 1.0000e-04\n",
            "Epoch 20/30\n",
            "311/311 [==============================] - ETA: 0s - loss: 0.5971 - accuracy: 0.0580\n",
            "Epoch 20: accuracy did not improve from 0.07134\n",
            "311/311 [==============================] - 26s 84ms/step - loss: 0.5971 - accuracy: 0.0580 - lr: 1.0000e-04\n",
            "Epoch 21/30\n",
            "311/311 [==============================] - ETA: 0s - loss: 0.5770 - accuracy: 0.0496\n",
            "Epoch 21: accuracy did not improve from 0.07134\n",
            "311/311 [==============================] - 26s 82ms/step - loss: 0.5770 - accuracy: 0.0496 - lr: 1.0000e-04\n",
            "Epoch 22/30\n",
            "311/311 [==============================] - ETA: 0s - loss: 0.5670 - accuracy: 0.0439\n",
            "Epoch 22: accuracy did not improve from 0.07134\n",
            "311/311 [==============================] - 25s 82ms/step - loss: 0.5670 - accuracy: 0.0439 - lr: 1.0000e-04\n",
            "Epoch 23/30\n",
            "311/311 [==============================] - ETA: 0s - loss: 0.5595 - accuracy: 0.0480\n",
            "Epoch 23: accuracy did not improve from 0.07134\n",
            "311/311 [==============================] - 25s 82ms/step - loss: 0.5595 - accuracy: 0.0480 - lr: 1.0000e-04\n",
            "Epoch 24/30\n",
            "311/311 [==============================] - ETA: 0s - loss: 0.5611 - accuracy: 0.0488\n",
            "Epoch 24: accuracy did not improve from 0.07134\n",
            "311/311 [==============================] - 27s 86ms/step - loss: 0.5611 - accuracy: 0.0488 - lr: 1.0000e-04\n",
            "Epoch 25/30\n",
            "311/311 [==============================] - ETA: 0s - loss: 0.5604 - accuracy: 0.0423\n",
            "Epoch 25: accuracy did not improve from 0.07134\n",
            "311/311 [==============================] - 26s 83ms/step - loss: 0.5604 - accuracy: 0.0423 - lr: 1.0000e-04\n",
            "Epoch 26/30\n",
            "311/311 [==============================] - ETA: 0s - loss: 0.5432 - accuracy: 0.0459\n",
            "Epoch 26: accuracy did not improve from 0.07134\n",
            "311/311 [==============================] - 26s 82ms/step - loss: 0.5432 - accuracy: 0.0459 - lr: 1.0000e-04\n",
            "Epoch 27/30\n",
            "311/311 [==============================] - ETA: 0s - loss: 0.5685 - accuracy: 0.0492\n",
            "Epoch 27: accuracy did not improve from 0.07134\n",
            "311/311 [==============================] - 26s 83ms/step - loss: 0.5685 - accuracy: 0.0492 - lr: 1.0000e-04\n",
            "Epoch 28/30\n",
            "311/311 [==============================] - ETA: 0s - loss: 0.5450 - accuracy: 0.0415\n",
            "Epoch 28: accuracy did not improve from 0.07134\n",
            "311/311 [==============================] - 26s 83ms/step - loss: 0.5450 - accuracy: 0.0415 - lr: 1.0000e-04\n",
            "Epoch 29/30\n",
            "311/311 [==============================] - ETA: 0s - loss: 0.5594 - accuracy: 0.0468\n",
            "Epoch 29: accuracy did not improve from 0.07134\n",
            "311/311 [==============================] - 26s 82ms/step - loss: 0.5594 - accuracy: 0.0468 - lr: 1.0000e-04\n",
            "Epoch 30/30\n",
            "311/311 [==============================] - ETA: 0s - loss: 0.5484 - accuracy: 0.0508\n",
            "Epoch 30: accuracy did not improve from 0.07134\n",
            "311/311 [==============================] - 26s 82ms/step - loss: 0.5484 - accuracy: 0.0508 - lr: 1.0000e-04\n"
          ]
        }
      ],
      "source": [
        "train_loss = []\n",
        "train_accuracy = []\n",
        "val_loss = []\n",
        "val_accuracy = []\n",
        "# for epoch in range(EPOCHS):\n",
        "# Training step\n",
        "H = model.fit(\n",
        "    trainAug.flow(trainX, trainY, batch_size=BATCH_SIZE),\n",
        "    steps_per_epoch=len(trainX) // BATCH_SIZE,\n",
        "    validation_data=(testX, testY),\n",
        "    validation_steps=len(testX) // BATCH_SIZE,\n",
        "    epochs=EPOCHS,\n",
        "    callbacks=[earlyStopping, mcp_save, reduce_lr_loss]\n",
        ")"
      ]
    },
    {
      "cell_type": "code",
      "execution_count": null,
      "metadata": {
        "colab": {
          "base_uri": "https://localhost:8080/",
          "height": 477
        },
        "id": "YtdjkW7HELVq",
        "outputId": "929c528e-3110-4313-8251-16104d42bd41"
      },
      "outputs": [
        {
          "output_type": "display_data",
          "data": {
            "text/plain": [
              "<Figure size 640x480 with 1 Axes>"
            ],
            "image/png": "[encoded data removed]"
          },
          "metadata": {}
        }
      ],
      "source": [
        "N = EPOCHS\n",
        "plt.style.use('ggplot')\n",
        "plt.figure()\n",
        "plt.plot(np.arange(0, N), H.history['loss'], label='train_loss')\n",
        "# plt.plot(np.arange(0, N), H.history['val_loss'], label='val_loss')\n",
        "plt.plot(np.arange(0, N), H.history['accuracy'], label='train_acc')\n",
        "# plt.plot(np.arange(0, N), H.history['val_accuracy'], label='val_acc')\n",
        "plt.title('Training Loss and Accuracy on COVID-19 Dataset')\n",
        "plt.xlabel('Epoch #')\n",
        "plt.ylabel('Loss/Accuracy')\n",
        "plt.legend(loc='lower left')\n",
        "plt.savefig(os.path.join(MODEL_DIR, 'loss.png'))"
      ]
    },
    {
      "cell_type": "code",
      "execution_count": null,
      "metadata": {
        "colab": {
          "background_save": true
        },
        "id": "c82mizEaH0zc"
      },
      "outputs": [],
      "source": [
        "lb.classes_"
      ]
    },
    {
      "cell_type": "code",
      "execution_count": null,
      "metadata": {
        "colab": {
          "base_uri": "https://localhost:8080/",
          "height": 494
        },
        "id": "iclJqq5_ECss",
        "outputId": "a3723c04-4a8b-40e3-c327-43b89578847e"
      },
      "outputs": [
        {
          "output_type": "stream",
          "name": "stdout",
          "text": [
            "20/20 [==============================] - 9s 248ms/step\n"
          ]
        },
        {
          "output_type": "display_data",
          "data": {
            "text/plain": [
              "<Figure size 640x480 with 1 Axes>"
            ],
            "image/png": "[encoded data removed]"
          },
          "metadata": {}
        }
      ],
      "source": [
        "from sklearn.metrics import roc_curve, auc\n",
        "from sklearn.preprocessing import label_binarize\n",
        "\n",
        "testY_binary = label_binarize(testY, classes=lb.classes_)  # Replace [0, 1, 2] with your actual label classes\n",
        "\n",
        "# Get predicted probabilities for test data\n",
        "y_pred_prob = model.predict(testX)\n",
        "\n",
        "# Compute false positive rate, true positive rate, and thresholds\n",
        "fpr = dict()\n",
        "tpr = dict()\n",
        "roc_auc = dict()\n",
        "for i in range(testY_binary.shape[1]):\n",
        "    fpr[i], tpr[i], _ = roc_curve(testY_binary[:, i], y_pred_prob[:, i])\n",
        "    roc_auc[i] = auc(fpr[i], tpr[i])\n",
        "\n",
        "# Plot ROC curves\n",
        "plt.figure()\n",
        "for i in range(testY_binary.shape[1]):\n",
        "    plt.plot(fpr[i], tpr[i], label='ROC curve class {} (AUC = {:.2f})'.format(i, roc_auc[i]))\n",
        "\n",
        "plt.plot([0, 1], [0, 1], 'k--')\n",
        "plt.xlim([0.0, 1.0])\n",
        "plt.ylim([0.0, 1.05])\n",
        "plt.xlabel('False Positive Rate')\n",
        "plt.ylabel('True Positive Rate')\n",
        "plt.title('Receiver Operating Characteristic')\n",
        "plt.legend(loc=\"lower right\")\n",
        "plt.show()"
      ]
    },
    {
      "cell_type": "code",
      "execution_count": null,
      "metadata": {
        "colab": {
          "background_save": true
        },
        "id": "s_7o_gUgnjWw"
      },
      "outputs": [],
      "source": [
        "print('Evaluating network...')\n",
        "predIdxs = model.predict(testX, batch_size=BATCH_SIZE)\n",
        "predIdxs = np.argmax(predIdxs, axis=1)\n",
        "target_names = lb.classes_.astype(str)\n",
        "\n",
        "print('classification report sklearn:')\n",
        "print(\n",
        "    classification_report(testY.argmax(axis=1),\n",
        "                          predIdxs,\n",
        "                          target_names=lb.classes_)\n",
        "    )\n",
        "\n",
        "# compute the confusion matrix and and use it to derive the raw\n",
        "# accuracy, sensitivity, and specificity\n",
        "print('confusion matrix:')\n",
        "cm = confusion_matrix(testY.argmax(axis=1), predIdxs)\n",
        "# show the confusion matrix, accuracy, sensitivity, and specificity\n",
        "print(cm)"
      ]
    },
    {
      "cell_type": "code",
      "execution_count": null,
      "metadata": {
        "colab": {
          "background_save": true
        },
        "id": "WqY0527goDli"
      },
      "outputs": [],
      "source": []
    }
  ],
  "metadata": {
    "accelerator": "GPU",
    "colab": {
      "machine_shape": "hm",
      "provenance": [],
      "gpuType": "T4"
    },
    "kernelspec": {
      "display_name": "Python 3",
      "name": "python3"
    },
    "language_info": {
      "name": "python"
    }
  },
  "nbformat": 4,
  "nbformat_minor": 0
}